{
  "cells": [
    {
      "cell_type": "markdown",
      "metadata": {
        "colab_type": "text",
        "id": "view-in-github"
      },
      "source": [
        "<a href=\"https://colab.research.google.com/github/espada105/Artificial-Intelligence-Computer-Structure/blob/main/cuda_01.ipynb\" target=\"_parent\"><img src=\"https://colab.research.google.com/assets/colab-badge.svg\" alt=\"Open In Colab\"/></a>"
      ]
    },
    {
      "cell_type": "code",
      "execution_count": null,
      "metadata": {
        "colab": {
          "base_uri": "https://localhost:8080/"
        },
        "id": "gqG8lAX-IXjp",
        "outputId": "4c188034-e9d8-44ff-feb9-1ba8d4eb4d0a"
      },
      "outputs": [
        {
          "name": "stdout",
          "output_type": "stream",
          "text": [
            "/bin/bash: line 1: nvidia-smi: command not found\n"
          ]
        }
      ],
      "source": [
        "!nvidia-smi"
      ]
    },
    {
      "cell_type": "code",
      "execution_count": null,
      "metadata": {
        "colab": {
          "base_uri": "https://localhost:8080/"
        },
        "id": "6bKpf6Q1KjDr",
        "outputId": "8ced6842-ad28-4375-aa25-0ec7e141b5d0"
      },
      "outputs": [
        {
          "name": "stdout",
          "output_type": "stream",
          "text": [
            "Collecting nvcc4jupyter\n",
            "  Downloading nvcc4jupyter-1.2.1-py3-none-any.whl.metadata (5.1 kB)\n",
            "Downloading nvcc4jupyter-1.2.1-py3-none-any.whl (10 kB)\n",
            "Installing collected packages: nvcc4jupyter\n",
            "Successfully installed nvcc4jupyter-1.2.1\n"
          ]
        }
      ],
      "source": [
        "!pip install nvcc4jupyter"
      ]
    },
    {
      "cell_type": "code",
      "execution_count": null,
      "metadata": {
        "colab": {
          "base_uri": "https://localhost:8080/"
        },
        "id": "r06C0_ekKson",
        "outputId": "c7711467-dce4-42be-8693-fa23052d0a68"
      },
      "outputs": [
        {
          "name": "stdout",
          "output_type": "stream",
          "text": [
            "The nvcc4jupyter extension is already loaded. To reload it, use:\n",
            "  %reload_ext nvcc4jupyter\n"
          ]
        }
      ],
      "source": [
        "%load_ext nvcc4jupyter"
      ]
    },
    {
      "cell_type": "code",
      "execution_count": null,
      "metadata": {
        "colab": {
          "base_uri": "https://localhost:8080/"
        },
        "id": "S-S8uOdyJuQ-",
        "outputId": "6034b385-4bef-4fd8-a9d5-ba4b2850232f"
      },
      "outputs": [
        {
          "name": "stdout",
          "output_type": "stream",
          "text": [
            "this function is defined to run on the CPU.\n"
          ]
        }
      ],
      "source": [
        "!nvcc -arch=sm_70 -o cpu_gpu.cu ./cpu_gpu.cu -run"
      ]
    },
    {
      "cell_type": "code",
      "execution_count": null,
      "metadata": {
        "colab": {
          "base_uri": "https://localhost:8080/"
        },
        "id": "OwppegisJAir",
        "outputId": "7e041645-97bb-4c0f-df12-9e80d2fd963b"
      },
      "outputs": [
        {
          "name": "stdout",
          "output_type": "stream",
          "text": [
            "/tmp/tmpzckalggs/86ac7133-a3bb-40a9-92fd-0b1b1391ce5c/single_file.cu(4): error: expected a \";\"\n",
            "  }\n",
            "  ^\n",
            "\n",
            "/tmp/tmpzckalggs/86ac7133-a3bb-40a9-92fd-0b1b1391ce5c/single_file.cu(8): error: expected a \";\"\n",
            "  }\n",
            "  ^\n",
            "\n",
            "2 errors detected in the compilation of \"/tmp/tmpzckalggs/86ac7133-a3bb-40a9-92fd-0b1b1391ce5c/single_file.cu\".\n",
            "\n"
          ]
        }
      ],
      "source": [
        "%%cuda\n",
        "#include <stdio.h>\n",
        "\n",
        "void CPUFunction(){\n",
        "    printf(\"Thisfunction is defined to run on the cpu \\n\")\n",
        "}\n",
        "\n",
        "__global__ void GPUFunction(){\n",
        "    printf(\"This function is defined to run on the GPU \\n\")\n",
        "}\n",
        "\n",
        "int main(){\n",
        "    CPUFunction();\n",
        "    GPUFunction<<<1,1>>>();\n",
        "    cudaDeviceSynchronize();\n",
        "}\n"
      ]
    }
  ],
  "metadata": {
    "colab": {
      "authorship_tag": "ABX9TyPrdk6+i9bJU1905KtlM72J",
      "include_colab_link": true,
      "provenance": []
    },
    "kernelspec": {
      "display_name": "Python 3",
      "name": "python3"
    },
    "language_info": {
      "name": "python"
    }
  },
  "nbformat": 4,
  "nbformat_minor": 0
}
