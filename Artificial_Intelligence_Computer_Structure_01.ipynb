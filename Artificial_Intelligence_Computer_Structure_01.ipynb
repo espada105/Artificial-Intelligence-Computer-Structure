{
  "cells": [
    {
      "cell_type": "markdown",
      "metadata": {
        "id": "Tt_btnP-pZac"
      },
      "source": []
    },
    {
      "cell_type": "code",
      "execution_count": 1,
      "metadata": {
        "colab": {
          "base_uri": "https://localhost:8080/"
        },
        "id": "p1ZETksinJEk",
        "outputId": "0e3e5454-053b-4c6f-a367-bc3ef8a05cb3"
      },
      "outputs": [
        {
          "name": "stdout",
          "output_type": "stream",
          "text": [
            "Collecting nvcc4jupyter\n",
            "  Downloading nvcc4jupyter-1.2.1-py3-none-any.whl.metadata (5.1 kB)\n",
            "Downloading nvcc4jupyter-1.2.1-py3-none-any.whl (10 kB)\n",
            "Installing collected packages: nvcc4jupyter\n",
            "Successfully installed nvcc4jupyter-1.2.1\n"
          ]
        }
      ],
      "source": [
        "!pip install nvcc4jupyter"
      ]
    },
    {
      "cell_type": "code",
      "execution_count": 2,
      "metadata": {
        "colab": {
          "base_uri": "https://localhost:8080/"
        },
        "id": "qTF_J2TXsbc1",
        "outputId": "8938051f-dbe1-4d2c-91f9-876f624dbbc1"
      },
      "outputs": [
        {
          "name": "stdout",
          "output_type": "stream",
          "text": [
            "Detected platform \"Colab\". Running its setup...\n",
            "Source files will be saved in \"/tmp/tmp9iv_r275\".\n"
          ]
        }
      ],
      "source": [
        "%load_ext nvcc4jupyter"
      ]
    },
    {
      "cell_type": "code",
      "execution_count": 3,
      "metadata": {
        "colab": {
          "base_uri": "https://localhost:8080/"
        },
        "id": "RXRwQvUFuCDy",
        "outputId": "f2ab7212-e2c6-4d3a-eb3b-b65586b4888d"
      },
      "outputs": [
        {
          "name": "stdout",
          "output_type": "stream",
          "text": [
            "쓰레드번호 : 0 (threadIdx.x: 0, blockIdx.x: 0, blockDim.x: 3) 가 실행 완료\n",
            "쓰레드번호 : 1 (threadIdx.x: 1, blockIdx.x: 0, blockDim.x: 3) 가 실행 완료\n",
            "쓰레드번호 : 2 (threadIdx.x: 2, blockIdx.x: 0, blockDim.x: 3) 가 실행 완료\n",
            "쓰레드번호 : 3 (threadIdx.x: 0, blockIdx.x: 1, blockDim.x: 3) 가 실행 완료\n",
            "쓰레드번호 : 4 (threadIdx.x: 1, blockIdx.x: 1, blockDim.x: 3) 가 실행 완료\n",
            "쓰레드번호 : 5 (threadIdx.x: 2, blockIdx.x: 1, blockDim.x: 3) 가 실행 완료\n",
            "\n"
          ]
        }
      ],
      "source": [
        "%%cuda\n",
        "#include <stdio.h>\n",
        "\n",
        "__global__ void hello() {\n",
        "    int global_idx = threadIdx.x + blockIdx.x * blockDim.x;\n",
        "    printf(\"쓰레드번호 : %u (threadIdx.x: %u, blockIdx.x: %u, blockDim.x: %u) 가 실행 완료\\n\",\n",
        "           global_idx, threadIdx.x, blockIdx.x, blockDim.x);\n",
        "}\n",
        "\n",
        "int main() {\n",
        "    int n_blocks = 2, n_threads_per_block = 3;\n",
        "    hello<<<n_blocks, n_threads_per_block>>>();\n",
        "\n",
        "    cudaDeviceSynchronize();\n",
        "}\n"
      ]
    }
  ],
  "metadata": {
    "accelerator": "GPU",
    "colab": {
      "gpuType": "T4",
      "provenance": []
    },
    "kernelspec": {
      "display_name": "Python 3",
      "name": "python3"
    },
    "language_info": {
      "name": "python"
    }
  },
  "nbformat": 4,
  "nbformat_minor": 0
}
